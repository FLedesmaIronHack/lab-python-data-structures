{
 "cells": [
  {
   "cell_type": "markdown",
   "metadata": {
    "tags": []
   },
   "source": [
    "# Lab | Data Structures "
   ]
  },
  {
   "cell_type": "markdown",
   "metadata": {},
   "source": [
    "## Exercise: Managing Customer Orders\n",
    "\n",
    "As part of a business venture, you are starting an online store that sells various products. To ensure smooth operations, you need to develop a program that manages customer orders and inventory.\n",
    "\n",
    "Follow the steps below to complete the exercise:\n",
    "\n",
    "1. Define a list called `products` that contains the following items: \"t-shirt\", \"mug\", \"hat\", \"book\", \"keychain\".\n",
    "\n",
    "2. Create an empty dictionary called `inventory`.\n",
    "\n",
    "3. Ask the user to input the quantity of each product available in the inventory. Use the product names from the `products` list as keys in the `inventory` dictionary and assign the respective quantities as values.\n",
    "\n",
    "4. Create an empty set called `customer_orders`.\n",
    "\n",
    "5. Ask the user to input the name of three products that a customer wants to order (from those in the products list, meaning three products out of \"t-shirt\", \"mug\", \"hat\", \"book\" or \"keychain\". Add each product name to the `customer_orders` set.\n",
    "\n",
    "6. Print the products in the `customer_orders` set.\n",
    "\n",
    "7. Calculate the following order statistics:\n",
    "   - Total Products Ordered: The total number of products in the `customer_orders` set.\n",
    "   - Percentage of Products Ordered: The percentage of products ordered compared to the total available products.\n",
    "   \n",
    "   Store these statistics in a tuple called `order_status`.\n",
    "\n",
    "8. Print the order statistics using the following format:\n",
    "   ```\n",
    "   Order Statistics:\n",
    "   Total Products Ordered: <total_products_ordered>\n",
    "   Percentage of Products Ordered: <percentage_ordered>% \n",
    "   ```\n",
    "\n",
    "9. Update the inventory by subtracting 1 from the quantity of each product. Modify the `inventory` dictionary accordingly.\n",
    "\n",
    "10. Print the updated inventory, displaying the quantity of each product on separate lines.\n",
    "\n",
    "Solve the exercise by implementing the steps using the Python concepts of lists, dictionaries, sets, and basic input/output operations. "
   ]
  },
  {
   "cell_type": "code",
   "execution_count": 5,
   "metadata": {},
   "outputs": [
    {
     "name": "stdout",
     "output_type": "stream",
     "text": [
      "Enter the quantity of 't-shirt': 3\n",
      "Enter the quantity of 'mug': 3\n",
      "Enter the quantity of 'hat': 2\n",
      "Enter the quantity of 'book': 1\n",
      "Enter the quantity of 'keychain': 0\n",
      "Enter the first order product name: mug\n",
      "Enter the second order product name: hat\n",
      "Enter the third order product name: keychain\n",
      "{'keychain', 'mug', 'hat'}\n",
      "Order Statistics:\n",
      "Total Products Ordered: 3\n",
      "Percentage of Products Ordered: 33.33333333333333\n"
     ]
    }
   ],
   "source": [
    "products = [\"t-shirt\", \"mug\", \"hat\", \"book\", \"keychain\"]\n",
    "inventory={}\n",
    "inventory = {\n",
    "    products[0]: int(input(\"Enter the quantity of '\" + products[0] + \"': \")),\n",
    "    products[1]: int(input(\"Enter the quantity of '\" + products[1] + \"': \")),\n",
    "    products[2]: int(input(\"Enter the quantity of '\" + products[2] + \"': \")),\n",
    "    products[3]: int(input(\"Enter the quantity of '\" + products[3] + \"': \")),\n",
    "    products[4]: int(input(\"Enter the quantity of '\" + products[4] + \"': \"))\n",
    "}\n",
    "\n",
    "customer_orders={}\n",
    "\n",
    "customer_orders = {\n",
    "    input(\"Enter the first order product name: \"),\n",
    "    input(\"Enter the second order product name: \"),\n",
    "    input(\"Enter the third order product name: \")\n",
    "}\n",
    "print (customer_orders)\n",
    "\n",
    "\n",
    "Total_Products_Ordered = len(customer_orders)\n",
    "Percentage_of_Products_Ordered = (len(customer_orders)/sum(inventory.values()))*100\n",
    "\n",
    "print('Order Statistics:')\n",
    "print('Total Products Ordered: '+ str(Total_Products_Ordered))\n",
    "print('Percentage of Products Ordered: '+ str(Percentage_of_Products_Ordered))\n",
    "\n",
    "customer_order_list=[]\n",
    "customer_order_list=list(customer_orders)\n",
    "\n"
   ]
  },
  {
   "cell_type": "code",
   "execution_count": 6,
   "metadata": {},
   "outputs": [
    {
     "name": "stdout",
     "output_type": "stream",
     "text": [
      "{'t-shirt': 3, 'mug': 2, 'hat': 1, 'book': 1, 'keychain': 0}\n"
     ]
    }
   ],
   "source": [
    "if 'hat' in customer_order_list:\n",
    "    if inventory['hat'] >= 1:\n",
    "        inventory['hat'] -= 1\n",
    "if 'mug' in customer_order_list:\n",
    "    if inventory['mug'] >= 1:\n",
    "        inventory['mug'] -= 1\n",
    "if 'book' in customer_order_list:\n",
    "    if inventory['book'] >= 1:\n",
    "        inventory['book'] -= 1\n",
    "if 't-shirt' in customer_order_list:\n",
    "    if inventory['t-shirt'] >= 1:\n",
    "        inventory['t-shirt'] -= 1\n",
    "if 'keychain' in customer_order_list:\n",
    "    if inventory['keychain'] >= 1:\n",
    "        inventory['keychain'] -= 1\n",
    "print(inventory)"
   ]
  },
  {
   "cell_type": "code",
   "execution_count": null,
   "metadata": {},
   "outputs": [],
   "source": []
  }
 ],
 "metadata": {
  "kernelspec": {
   "display_name": "Python 3 (ipykernel)",
   "language": "python",
   "name": "python3"
  },
  "language_info": {
   "codemirror_mode": {
    "name": "ipython",
    "version": 3
   },
   "file_extension": ".py",
   "mimetype": "text/x-python",
   "name": "python",
   "nbconvert_exporter": "python",
   "pygments_lexer": "ipython3",
   "version": "3.11.7"
  }
 },
 "nbformat": 4,
 "nbformat_minor": 4
}
